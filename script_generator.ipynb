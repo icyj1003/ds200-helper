{
 "cells": [
  {
   "cell_type": "markdown",
   "metadata": {},
   "source": [
    "Show all databases"
   ]
  },
  {
   "cell_type": "markdown",
   "metadata": {},
   "source": [
    "### Sqoop"
   ]
  },
  {
   "cell_type": "markdown",
   "metadata": {},
   "source": [
    "Import table 'table_name' vào HDFS:"
   ]
  },
  {
   "cell_type": "code",
   "execution_count": 5,
   "metadata": {},
   "outputs": [
    {
     "name": "stdout",
     "output_type": "stream",
     "text": [
      "sqoop import --connect jdbc:mysql://localhost/StudentInfo --table student --username root --password cloudera --split-by std_id --m 1 --target-dir /user/cloudera/StudentInfo/student\n"
     ]
    }
   ],
   "source": [
    "# Insert ===\n",
    "db_name = 'StudentInfo'\n",
    "table_name = 'student'\n",
    "target_dir = f'/user/cloudera/{db_name}/{table_name}'\n",
    "# ==========\n",
    "cmd = f'sqoop import --connect jdbc:mysql://localhost/{db_name} --table {table_name} --username root --password cloudera --split-by std_id --m 1 --target-dir {target_dir}'\n",
    "print(cmd)"
   ]
  },
  {
   "cell_type": "markdown",
   "metadata": {},
   "source": [
    "Create query command:"
   ]
  },
  {
   "cell_type": "code",
   "execution_count": 5,
   "metadata": {},
   "outputs": [
    {
     "name": "stdout",
     "output_type": "stream",
     "text": [
      "sqoop import --connect jdbc:mysql://localhost/tran --username root --password cloudera --query 'select cust_id, amount, game from student where amount>100 and $CONDITIONS' --split-by cust_id --target-dir /user/cloudera/tran/VIPplayer\n"
     ]
    }
   ],
   "source": [
    "# Insert ===\n",
    "db_name = 'tran'\n",
    "table_name = 'Transaction'\n",
    "query_name = 'VIPplayer'\n",
    "query = 'select cust_id, amount, game from student where amount>100' + ' and $CONDITIONS'\n",
    "target_dir = f'/user/cloudera/{db_name}/{query_name}'\n",
    "split_by = 'cust_id'\n",
    "# ==========\n",
    "cmd = f\"sqoop import --connect jdbc:mysql://localhost/{db_name} --username root --password cloudera --query '{query}' --split-by {split_by} --target-dir {target_dir}\"\n",
    "print(cmd)"
   ]
  }
 ],
 "metadata": {
  "interpreter": {
   "hash": "5713120658bd4218162b74d492e37367ba65a05602f7879e8a5aea7478a261fd"
  },
  "kernelspec": {
   "display_name": "Python 3.10.4 64-bit",
   "language": "python",
   "name": "python3"
  },
  "language_info": {
   "codemirror_mode": {
    "name": "ipython",
    "version": 3
   },
   "file_extension": ".py",
   "mimetype": "text/x-python",
   "name": "python",
   "nbconvert_exporter": "python",
   "pygments_lexer": "ipython3",
   "version": "3.9.7"
  },
  "orig_nbformat": 4
 },
 "nbformat": 4,
 "nbformat_minor": 2
}
